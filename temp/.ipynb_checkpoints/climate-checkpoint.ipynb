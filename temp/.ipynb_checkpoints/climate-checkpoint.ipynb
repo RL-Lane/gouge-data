{
 "cells": [
  {
   "cell_type": "code",
   "execution_count": 1,
   "metadata": {},
   "outputs": [],
   "source": [
    "%matplotlib inline\n",
    "from matplotlib import style\n",
    "style.use('fivethirtyeight')\n",
    "import matplotlib.pyplot as plt"
   ]
  },
  {
   "cell_type": "code",
   "execution_count": 2,
   "metadata": {},
   "outputs": [],
   "source": [
    "import numpy as np\n",
    "import pandas as pd\n",
    "import datetime as dt\n",
    "from datetime import datetime\n",
    "from dateutil.relativedelta import relativedelta"
   ]
  },
  {
   "cell_type": "markdown",
   "metadata": {},
   "source": [
    "# Reflect Tables into SQLAlchemy ORM"
   ]
  },
  {
   "cell_type": "code",
   "execution_count": 1,
   "metadata": {},
   "outputs": [],
   "source": [
    "# Python SQL toolkit and Object Relational Mapper\n",
    "import sqlalchemy\n",
    "from sqlalchemy.ext.automap import automap_base\n",
    "from sqlalchemy.orm import Session\n",
    "from sqlalchemy import create_engine, func, inspect"
   ]
  },
  {
   "cell_type": "code",
   "execution_count": 2,
   "metadata": {},
   "outputs": [],
   "source": [
    "# create engine to hawaii.sqlite\n",
    "kaggle_engine = create_engine(\"sqlite:///../resources/cis_2018.sqlite\")"
   ]
  },
  {
   "cell_type": "code",
   "execution_count": 6,
   "metadata": {},
   "outputs": [],
   "source": [
    "scrape_engine = create_engine(\"sqlite:///../resources/scrape_db.sqlite\")"
   ]
  },
  {
   "cell_type": "code",
   "execution_count": 3,
   "metadata": {},
   "outputs": [],
   "source": [
    "# reflect an existing database into a new model\n",
    "Base = automap_base()\n",
    "# reflect the tables\n",
    "Base.prepare(kaggle_engine, reflect = True)"
   ]
  },
  {
   "cell_type": "code",
   "execution_count": 7,
   "metadata": {},
   "outputs": [],
   "source": [
    "Scrape_Base = automap_base()\n",
    "Scrape_Base.prepare(scrape_engine, reflect = True)"
   ]
  },
  {
   "cell_type": "code",
   "execution_count": 4,
   "metadata": {},
   "outputs": [
    {
     "data": {
      "text/plain": [
       "['sales']"
      ]
     },
     "execution_count": 4,
     "metadata": {},
     "output_type": "execute_result"
    }
   ],
   "source": [
    "# View all of the classes that automap found\n",
    "Base.classes.keys()"
   ]
  },
  {
   "cell_type": "code",
   "execution_count": 8,
   "metadata": {},
   "outputs": [
    {
     "data": {
      "text/plain": [
       "['car_scrape']"
      ]
     },
     "execution_count": 8,
     "metadata": {},
     "output_type": "execute_result"
    }
   ],
   "source": [
    "Scrape_Base.classes.keys()"
   ]
  },
  {
   "cell_type": "code",
   "execution_count": 5,
   "metadata": {},
   "outputs": [],
   "source": [
    "# Save references to each table\n",
    "kaggle_data = Base.classes\n",
    "# Station = Base.classes.station"
   ]
  },
  {
   "cell_type": "code",
   "execution_count": 6,
   "metadata": {},
   "outputs": [],
   "source": [
    "session = Session(kaggle_engine)"
   ]
  },
  {
   "cell_type": "code",
   "execution_count": 9,
   "metadata": {},
   "outputs": [],
   "source": [
    "scrape_session = Session(scrape_engine)"
   ]
  },
  {
   "cell_type": "code",
   "execution_count": null,
   "metadata": {},
   "outputs": [],
   "source": []
  },
  {
   "cell_type": "code",
   "execution_count": null,
   "metadata": {},
   "outputs": [],
   "source": []
  },
  {
   "cell_type": "code",
   "execution_count": null,
   "metadata": {},
   "outputs": [],
   "source": []
  },
  {
   "cell_type": "code",
   "execution_count": null,
   "metadata": {},
   "outputs": [],
   "source": []
  },
  {
   "cell_type": "code",
   "execution_count": null,
   "metadata": {},
   "outputs": [],
   "source": []
  },
  {
   "cell_type": "code",
   "execution_count": 50,
   "metadata": {},
   "outputs": [
    {
     "data": {
      "text/plain": [
       "<sqlalchemy.ext.automap.sales at 0x17068c2e310>"
      ]
     },
     "execution_count": 50,
     "metadata": {},
     "output_type": "execute_result"
    }
   ],
   "source": [
    "kaggle_list = session.query(kaggle_data.sales).all()\n",
    "kaggle_list"
   ]
  },
  {
   "cell_type": "code",
   "execution_count": 37,
   "metadata": {},
   "outputs": [
    {
     "data": {
      "text/plain": [
       "sqlalchemy.ext.automap.sales"
      ]
     },
     "execution_count": 37,
     "metadata": {},
     "output_type": "execute_result"
    }
   ],
   "source": [
    "kaggle_data.sales"
   ]
  },
  {
   "cell_type": "code",
   "execution_count": 14,
   "metadata": {},
   "outputs": [],
   "source": [
    "kaggle_list = kaggle_engine.execute(\"SELECT * FROM sales\").fetchall()\n",
    "\n"
   ]
  },
  {
   "cell_type": "code",
   "execution_count": 15,
   "metadata": {},
   "outputs": [
    {
     "data": {
      "text/plain": [
       "(1, 2020.0, 'NISSAN', 'NV', 32775, 'TRUCK', 0, None, None, None, 'Short', '0', 'Van', None, '0', None, None, None, '0', None, None, None, None, None, None, None)"
      ]
     },
     "execution_count": 15,
     "metadata": {},
     "output_type": "execute_result"
    }
   ],
   "source": [
    "kaggle_list[0]"
   ]
  },
  {
   "cell_type": "code",
   "execution_count": 12,
   "metadata": {},
   "outputs": [],
   "source": [
    "# Measurement columns\n",
    "inspector = inspect(kaggle_engine)\n",
    "columns = inspector.get_columns('sales')\n",
    "column_names=[]\n",
    "for c in columns:\n",
    "    column_names.append(c['name'])\n",
    "# column_names\n",
    "    \n",
    "    \n",
    "#     print(f\"{c['name']:<35} {c['type']}\")\n"
   ]
  },
  {
   "cell_type": "code",
   "execution_count": 16,
   "metadata": {},
   "outputs": [
    {
     "data": {
      "text/plain": [
       "[{'id': 1,\n",
       "  'model_year': 2020.0,\n",
       "  'make': 'NISSAN',\n",
       "  'model': 'NV',\n",
       "  'msrp': 32775,\n",
       "  'vehicle_type': 'TRUCK',\n",
       "  'milage': 0,\n",
       "  'axles': None,\n",
       "  'base_price': None,\n",
       "  'bed_length_inches': None,\n",
       "  'bed_type': 'Short',\n",
       "  'body_cab_type': '0',\n",
       "  'body_class': 'Van',\n",
       "  'doors': None,\n",
       "  'drive_type': '0',\n",
       "  'engine_hp': None,\n",
       "  'top_speed_mph': None,\n",
       "  'transmission_speeds': None,\n",
       "  'transmission_style': '0',\n",
       "  'cruise_control': None,\n",
       "  'auto_reverse_system': None,\n",
       "  'pedestrian_alerting_sound': None,\n",
       "  'blind_spot_monitor': None,\n",
       "  'forward_collision_warning': None,\n",
       "  'keyless_ignition': None,\n",
       "  'pedestrian_auto_emergency_brake': None},\n",
       " {'id': 2,\n",
       "  'model_year': 2019.0,\n",
       "  'make': 'NISSAN',\n",
       "  'model': 'NV',\n",
       "  'msrp': 32585,\n",
       "  'vehicle_type': 'TRUCK',\n",
       "  'milage': 0,\n",
       "  'axles': None,\n",
       "  'base_price': None,\n",
       "  'bed_length_inches': None,\n",
       "  'bed_type': 'Short',\n",
       "  'body_cab_type': '0',\n",
       "  'body_class': 'Van',\n",
       "  'doors': None,\n",
       "  'drive_type': '4x2',\n",
       "  'engine_hp': None,\n",
       "  'top_speed_mph': None,\n",
       "  'transmission_speeds': None,\n",
       "  'transmission_style': '0',\n",
       "  'cruise_control': None,\n",
       "  'auto_reverse_system': None,\n",
       "  'pedestrian_alerting_sound': None,\n",
       "  'blind_spot_monitor': None,\n",
       "  'forward_collision_warning': None,\n",
       "  'keyless_ignition': None,\n",
       "  'pedestrian_auto_emergency_brake': None},\n",
       " {'id': 3,\n",
       "  'model_year': 2019.0,\n",
       "  'make': 'NISSAN',\n",
       "  'model': 'NV',\n",
       "  'msrp': 33480,\n",
       "  'vehicle_type': 'TRUCK',\n",
       "  'milage': 0,\n",
       "  'axles': None,\n",
       "  'base_price': None,\n",
       "  'bed_length_inches': None,\n",
       "  'bed_type': 'Short',\n",
       "  'body_cab_type': '0',\n",
       "  'body_class': 'Van',\n",
       "  'doors': None,\n",
       "  'drive_type': '0',\n",
       "  'engine_hp': None,\n",
       "  'top_speed_mph': None,\n",
       "  'transmission_speeds': None,\n",
       "  'transmission_style': '0',\n",
       "  'cruise_control': None,\n",
       "  'auto_reverse_system': None,\n",
       "  'pedestrian_alerting_sound': None,\n",
       "  'blind_spot_monitor': None,\n",
       "  'forward_collision_warning': None,\n",
       "  'keyless_ignition': None,\n",
       "  'pedestrian_auto_emergency_brake': None},\n",
       " {'id': 4,\n",
       "  'model_year': 2019.0,\n",
       "  'make': 'NISSAN',\n",
       "  'model': 'NV',\n",
       "  'msrp': 32980,\n",
       "  'vehicle_type': 'TRUCK',\n",
       "  'milage': 0,\n",
       "  'axles': None,\n",
       "  'base_price': None,\n",
       "  'bed_length_inches': None,\n",
       "  'bed_type': 'Short',\n",
       "  'body_cab_type': '0',\n",
       "  'body_class': 'Van',\n",
       "  'doors': None,\n",
       "  'drive_type': '0',\n",
       "  'engine_hp': None,\n",
       "  'top_speed_mph': None,\n",
       "  'transmission_speeds': None,\n",
       "  'transmission_style': '0',\n",
       "  'cruise_control': None,\n",
       "  'auto_reverse_system': None,\n",
       "  'pedestrian_alerting_sound': None,\n",
       "  'blind_spot_monitor': None,\n",
       "  'forward_collision_warning': None,\n",
       "  'keyless_ignition': None,\n",
       "  'pedestrian_auto_emergency_brake': None},\n",
       " {'id': 5,\n",
       "  'model_year': 2020.0,\n",
       "  'make': 'NISSAN',\n",
       "  'model': 'NV',\n",
       "  'msrp': 33935,\n",
       "  'vehicle_type': 'TRUCK',\n",
       "  'milage': 0,\n",
       "  'axles': None,\n",
       "  'base_price': None,\n",
       "  'bed_length_inches': None,\n",
       "  'bed_type': 'Short',\n",
       "  'body_cab_type': '0',\n",
       "  'body_class': 'Van',\n",
       "  'doors': None,\n",
       "  'drive_type': '0',\n",
       "  'engine_hp': None,\n",
       "  'top_speed_mph': None,\n",
       "  'transmission_speeds': None,\n",
       "  'transmission_style': '0',\n",
       "  'cruise_control': None,\n",
       "  'auto_reverse_system': None,\n",
       "  'pedestrian_alerting_sound': None,\n",
       "  'blind_spot_monitor': None,\n",
       "  'forward_collision_warning': None,\n",
       "  'keyless_ignition': None,\n",
       "  'pedestrian_auto_emergency_brake': None},\n",
       " {'id': 6,\n",
       "  'model_year': 2018.0,\n",
       "  'make': 'FORD',\n",
       "  'model': 'F-150',\n",
       "  'msrp': 36305,\n",
       "  'vehicle_type': 'TRUCK',\n",
       "  'milage': 0,\n",
       "  'axles': None,\n",
       "  'base_price': None,\n",
       "  'bed_length_inches': None,\n",
       "  'bed_type': 'Short',\n",
       "  'body_cab_type': 'Extra/Super/ Quad/Double/King/Extended',\n",
       "  'body_class': 'Pickup',\n",
       "  'doors': None,\n",
       "  'drive_type': '4x2',\n",
       "  'engine_hp': 290.0,\n",
       "  'top_speed_mph': None,\n",
       "  'transmission_speeds': None,\n",
       "  'transmission_style': '0',\n",
       "  'cruise_control': None,\n",
       "  'auto_reverse_system': None,\n",
       "  'pedestrian_alerting_sound': None,\n",
       "  'blind_spot_monitor': None,\n",
       "  'forward_collision_warning': None,\n",
       "  'keyless_ignition': None,\n",
       "  'pedestrian_auto_emergency_brake': None},\n",
       " {'id': 7,\n",
       "  'model_year': 2018.0,\n",
       "  'make': 'FORD',\n",
       "  'model': 'F-150',\n",
       "  'msrp': 45330,\n",
       "  'vehicle_type': 'TRUCK',\n",
       "  'milage': 0,\n",
       "  'axles': None,\n",
       "  'base_price': None,\n",
       "  'bed_length_inches': None,\n",
       "  'bed_type': 'Short',\n",
       "  'body_cab_type': 'Extra/Super/ Quad/Double/King/Extended',\n",
       "  'body_class': 'Pickup',\n",
       "  'doors': None,\n",
       "  'drive_type': '4x2',\n",
       "  'engine_hp': 395.0,\n",
       "  'top_speed_mph': None,\n",
       "  'transmission_speeds': None,\n",
       "  'transmission_style': '0',\n",
       "  'cruise_control': None,\n",
       "  'auto_reverse_system': None,\n",
       "  'pedestrian_alerting_sound': None,\n",
       "  'blind_spot_monitor': None,\n",
       "  'forward_collision_warning': None,\n",
       "  'keyless_ignition': None,\n",
       "  'pedestrian_auto_emergency_brake': None},\n",
       " {'id': 8,\n",
       "  'model_year': 2019.0,\n",
       "  'make': 'CHEVROLET',\n",
       "  'model': '0',\n",
       "  'msrp': 138280,\n",
       "  'vehicle_type': 'PASSENGER CAR',\n",
       "  'milage': 0,\n",
       "  'axles': None,\n",
       "  'base_price': None,\n",
       "  'bed_length_inches': None,\n",
       "  'bed_type': 'Short',\n",
       "  'body_cab_type': '0',\n",
       "  'body_class': '0',\n",
       "  'doors': None,\n",
       "  'drive_type': '0',\n",
       "  'engine_hp': None,\n",
       "  'top_speed_mph': None,\n",
       "  'transmission_speeds': None,\n",
       "  'transmission_style': '0',\n",
       "  'cruise_control': None,\n",
       "  'auto_reverse_system': None,\n",
       "  'pedestrian_alerting_sound': None,\n",
       "  'blind_spot_monitor': None,\n",
       "  'forward_collision_warning': None,\n",
       "  'keyless_ignition': None,\n",
       "  'pedestrian_auto_emergency_brake': None},\n",
       " {'id': 9,\n",
       "  'model_year': 2019.0,\n",
       "  'make': 'NISSAN',\n",
       "  'model': 'NV',\n",
       "  'msrp': 33480,\n",
       "  'vehicle_type': 'TRUCK',\n",
       "  'milage': 0,\n",
       "  'axles': None,\n",
       "  'base_price': None,\n",
       "  'bed_length_inches': None,\n",
       "  'bed_type': 'Short',\n",
       "  'body_cab_type': '0',\n",
       "  'body_class': 'Van',\n",
       "  'doors': None,\n",
       "  'drive_type': '0',\n",
       "  'engine_hp': None,\n",
       "  'top_speed_mph': None,\n",
       "  'transmission_speeds': None,\n",
       "  'transmission_style': '0',\n",
       "  'cruise_control': None,\n",
       "  'auto_reverse_system': None,\n",
       "  'pedestrian_alerting_sound': None,\n",
       "  'blind_spot_monitor': None,\n",
       "  'forward_collision_warning': None,\n",
       "  'keyless_ignition': None,\n",
       "  'pedestrian_auto_emergency_brake': None},\n",
       " {'id': 10,\n",
       "  'model_year': 2019.0,\n",
       "  'make': 'NISSAN',\n",
       "  'model': 'NV',\n",
       "  'msrp': 35630,\n",
       "  'vehicle_type': 'TRUCK',\n",
       "  'milage': 0,\n",
       "  'axles': None,\n",
       "  'base_price': None,\n",
       "  'bed_length_inches': None,\n",
       "  'bed_type': 'Short',\n",
       "  'body_cab_type': '0',\n",
       "  'body_class': 'Van',\n",
       "  'doors': None,\n",
       "  'drive_type': '0',\n",
       "  'engine_hp': None,\n",
       "  'top_speed_mph': None,\n",
       "  'transmission_speeds': None,\n",
       "  'transmission_style': '0',\n",
       "  'cruise_control': None,\n",
       "  'auto_reverse_system': None,\n",
       "  'pedestrian_alerting_sound': None,\n",
       "  'blind_spot_monitor': None,\n",
       "  'forward_collision_warning': None,\n",
       "  'keyless_ignition': None,\n",
       "  'pedestrian_auto_emergency_brake': None}]"
      ]
     },
     "execution_count": 16,
     "metadata": {},
     "output_type": "execute_result"
    }
   ],
   "source": [
    "# Firstly, our end goal is to create a list of dictionaries to use in JSONify later for easy plotting\n",
    "output_list=[]\n",
    "# for the first 10 entries in kaggle_list coming from cis_2018.sqlite database...\n",
    "for k in kaggle_list[0:10]:\n",
    "    temp_dict={}\n",
    "#this is where we assign column rows to their corresponding column names\n",
    "    for c in range(0,len(column_names)):\n",
    "        temp_dict[column_names[c]]=k[c]\n",
    "#append temp_dict to output_list\n",
    "    output_list.append(temp_dict)\n",
    "output_list\n"
   ]
  },
  {
   "cell_type": "code",
   "execution_count": null,
   "metadata": {},
   "outputs": [],
   "source": []
  },
  {
   "cell_type": "markdown",
   "metadata": {},
   "source": [
    "# Exploratory Precipitation Analysis"
   ]
  },
  {
   "cell_type": "code",
   "execution_count": 17,
   "metadata": {},
   "outputs": [],
   "source": [
    "scrape_list_tuple = scrape_engine.execute(\"SELECT DISTINCT make FROM car_scrape\").fetchall()\n",
    "scrape_list = []\n",
    "for sl in scrape_list_tuple:\n",
    "    scrape_list.append(sl[0])"
   ]
  },
  {
   "cell_type": "code",
   "execution_count": 18,
   "metadata": {},
   "outputs": [
    {
     "data": {
      "text/plain": [
       "['Jeep', 'Ford', 'General Motors', 'Toyota']"
      ]
     },
     "execution_count": 18,
     "metadata": {},
     "output_type": "execute_result"
    }
   ],
   "source": [
    "scrape_list"
   ]
  }
 ],
 "metadata": {
  "anaconda-cloud": {},
  "kernel_info": {
   "name": "python3"
  },
  "kernelspec": {
   "display_name": "Python 3 (ipykernel)",
   "language": "python",
   "name": "python3"
  },
  "language_info": {
   "codemirror_mode": {
    "name": "ipython",
    "version": 3
   },
   "file_extension": ".py",
   "mimetype": "text/x-python",
   "name": "python",
   "nbconvert_exporter": "python",
   "pygments_lexer": "ipython3",
   "version": "3.9.7"
  },
  "nteract": {
   "version": "0.12.3"
  },
  "varInspector": {
   "cols": {
    "lenName": 16,
    "lenType": 16,
    "lenVar": 40
   },
   "kernels_config": {
    "python": {
     "delete_cmd_postfix": "",
     "delete_cmd_prefix": "del ",
     "library": "var_list.py",
     "varRefreshCmd": "print(var_dic_list())"
    },
    "r": {
     "delete_cmd_postfix": ") ",
     "delete_cmd_prefix": "rm(",
     "library": "var_list.r",
     "varRefreshCmd": "cat(var_dic_list()) "
    }
   },
   "types_to_exclude": [
    "module",
    "function",
    "builtin_function_or_method",
    "instance",
    "_Feature"
   ],
   "window_display": false
  }
 },
 "nbformat": 4,
 "nbformat_minor": 2
}
